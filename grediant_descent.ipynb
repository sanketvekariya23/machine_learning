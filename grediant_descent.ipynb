{
 "cells": [
  {
   "cell_type": "code",
   "execution_count": null,
   "id": "cce12f3f",
   "metadata": {},
   "outputs": [],
   "source": [
    "# grediant descent is used to find equation using data set.\n",
    "# let suppose if we have given data set and draw line which is nearest from the all data set that means minimum mean squar error.\n",
    "# mean squar error\n",
    "\n",
    "# MSE = 1/n sum( Yi -(M*Xi + B ) ) ^2        y = mx +B\n",
    "#                                                     take squar becuase some are negative error nd we have to find sum of all error\n",
    "#                                                     and divide it into n .\n",
    "#         MSE is also known as cost\n",
    "\n",
    "# gradiant is calculated del Y / del x it is nothing but derivation\n",
    "\n",
    "# d / dm = -2/n sum(Xi(Yi-(mXi+b)))    -> d/ dm = -2/n sum(Xi(Yi-Yprediction)) -> ypredicton = M*Xi +b \n",
    "# d / db = -2/n sum(Yi(-(MXi + b)))\n",
    "\n",
    "\n",
    "# final calculate this\n",
    "\n",
    "# b2 = b1 - learning rate * d/db\n"
   ]
  },
  {
   "cell_type": "code",
   "execution_count": 2,
   "id": "5b1d3b39",
   "metadata": {},
   "outputs": [
    {
     "ename": "TypeError",
     "evalue": "'builtin_function_or_method' object is not subscriptable",
     "output_type": "error",
     "traceback": [
      "\u001b[1;31m---------------------------------------------------------------------------\u001b[0m",
      "\u001b[1;31mTypeError\u001b[0m                                 Traceback (most recent call last)",
      "Cell \u001b[1;32mIn[2], line 16\u001b[0m\n\u001b[0;32m     13\u001b[0m         bcurr \u001b[38;5;241m=\u001b[39m bcurr \u001b[38;5;241m-\u001b[39m learning_rate \u001b[38;5;241m*\u001b[39m   db\n\u001b[0;32m     14\u001b[0m         \u001b[38;5;28mprint\u001b[39m(\u001b[38;5;124m\"\u001b[39m\u001b[38;5;124mm\u001b[39m\u001b[38;5;132;01m{}\u001b[39;00m\u001b[38;5;124m,b\u001b[39m\u001b[38;5;132;01m{}\u001b[39;00m\u001b[38;5;124m, iteration\u001b[39m\u001b[38;5;124m\"\u001b[39m\u001b[38;5;241m.\u001b[39mformat(mcurr,bcurr,iteration))\n\u001b[1;32m---> 16\u001b[0m x  \u001b[38;5;241m=\u001b[39m np\u001b[38;5;241m.\u001b[39marray[\u001b[38;5;241m1\u001b[39m,\u001b[38;5;241m2\u001b[39m,\u001b[38;5;241m3\u001b[39m,\u001b[38;5;241m4\u001b[39m,\u001b[38;5;241m5\u001b[39m]\n\u001b[0;32m     17\u001b[0m y \u001b[38;5;241m=\u001b[39m np\u001b[38;5;241m.\u001b[39marray[\u001b[38;5;241m5\u001b[39m,\u001b[38;5;241m7\u001b[39m,\u001b[38;5;241m9\u001b[39m,\u001b[38;5;241m11\u001b[39m,\u001b[38;5;241m13\u001b[39m]\n\u001b[0;32m     18\u001b[0m gradiant_descret(x,y)\n",
      "\u001b[1;31mTypeError\u001b[0m: 'builtin_function_or_method' object is not subscriptable"
     ]
    }
   ],
   "source": [
    "import numpy as np\n",
    "\n",
    "def gradiant_descret(x,y):\n",
    "    mcurr = bcurr = 0\n",
    "    iteration = 1000\n",
    "    learning_rate = 0.001\n",
    "    n = len(x)\n",
    "    for i in range(iteration):\n",
    "        yprediction = mcurr * X +bcurr\n",
    "        db =-(2/n) * sum(y *(y-yprediction))               #derivation\n",
    "        dm =-(2/n) * sum(x * (y *(y-yprediction)))\n",
    "        mcurr = mcurr - learning_rate *   dm\n",
    "        bcurr = bcurr - learning_rate *   db\n",
    "        print(\"m{},b{}, iteration\".format(mcurr,bcurr,iteration))\n",
    "\n",
    "x  = np.array[1,2,3,4,5]\n",
    "y = np.array[5,7,9,11,13]\n",
    "gradiant_descret(x,y)\n",
    "\n",
    "# code basis "
   ]
  },
  {
   "cell_type": "code",
   "execution_count": null,
   "id": "3f288fa9",
   "metadata": {},
   "outputs": [],
   "source": []
  }
 ],
 "metadata": {
  "kernelspec": {
   "display_name": "Python 3 (ipykernel)",
   "language": "python",
   "name": "python3"
  },
  "language_info": {
   "codemirror_mode": {
    "name": "ipython",
    "version": 3
   },
   "file_extension": ".py",
   "mimetype": "text/x-python",
   "name": "python",
   "nbconvert_exporter": "python",
   "pygments_lexer": "ipython3",
   "version": "3.11.4"
  }
 },
 "nbformat": 4,
 "nbformat_minor": 5
}
